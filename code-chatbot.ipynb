{
 "cells": [
  {
   "cell_type": "code",
   "execution_count": null,
   "id": "6503cf50",
   "metadata": {},
   "outputs": [
    {
     "name": "stdout",
     "output_type": "stream",
     "text": [
      "Listening...\n"
     ]
    }
   ],
   "source": [
    "import openai\n",
    "import speech_recognition as sr\n",
    "import pyttsx3\n",
    "\n",
    "# Set up OpenAI API\n",
    "openai.api_key = 'add your key here'\n",
    "\n",
    "# Initialize TTS engine\n",
    "tts_engine = pyttsx3.init()\n",
    "\n",
    "def speak(text):\n",
    "    \"\"\"Convert text to speech.\"\"\"\n",
    "    tts_engine.say(text)\n",
    "    tts_engine.runAndWait()\n",
    "\n",
    "def listen():\n",
    "    \"\"\"Convert speech to text.\"\"\"\n",
    "    recognizer = sr.Recognizer()\n",
    "    with sr.Microphone() as source:\n",
    "        print(\"Listening...\")\n",
    "        audio = recognizer.listen(source)\n",
    "        try:\n",
    "            text = recognizer.recognize_google(audio)\n",
    "            print(f\"You said: {text}\")\n",
    "            return text\n",
    "        except sr.UnknownValueError:\n",
    "            print(\"Sorry, I did not understand that.\")\n",
    "            return \"\"\n",
    "        except sr.RequestError:\n",
    "            print(\"Request error from Google Speech Recognition service\")\n",
    "            return \"\"\n",
    "\n",
    "def chat_with_gpt(prompt):\n",
    "    \"\"\"Generate response from ChatGPT.\"\"\"\n",
    "    response = openai.Completion.create(\n",
    "        engine=\"text-davinci-003\",\n",
    "        prompt=prompt,\n",
    "        max_tokens=150\n",
    "    )\n",
    "    return response.choices[0].text.strip()\n",
    "\n",
    "if __name__ == \"__main__\":\n",
    "    while True:\n",
    "        user_input = listen()\n",
    "        if user_input:\n",
    "            chatgpt_response = chat_with_gpt(user_input)\n",
    "            print(f\"ChatGPT: {chatgpt_response}\")\n",
    "            speak(chatgpt_response)\n"
   ]
  },
  {
   "cell_type": "code",
   "execution_count": null,
   "id": "a065b313",
   "metadata": {},
   "outputs": [],
   "source": []
  }
 ],
 "metadata": {
  "kernelspec": {
   "display_name": "Python 3 (ipykernel)",
   "language": "python",
   "name": "python3"
  },
  "language_info": {
   "codemirror_mode": {
    "name": "ipython",
    "version": 3
   },
   "file_extension": ".py",
   "mimetype": "text/x-python",
   "name": "python",
   "nbconvert_exporter": "python",
   "pygments_lexer": "ipython3",
   "version": "3.11.4"
  }
 },
 "nbformat": 4,
 "nbformat_minor": 5
}
